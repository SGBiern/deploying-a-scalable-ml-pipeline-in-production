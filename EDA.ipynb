{
 "cells": [
  {
   "cell_type": "code",
   "execution_count": 41,
   "metadata": {},
   "outputs": [],
   "source": [
    "import pandas as pd\n",
    "from src.utils import load_artifact, process_data, get_cat_features\n",
    "from src.model import inference\n",
    "from pydantic import BaseModel\n",
    "from typing_extensions import Literal\n",
    "import numpy as np"
   ]
  },
  {
   "cell_type": "markdown",
   "metadata": {},
   "source": [
    "# Cleaning data"
   ]
  },
  {
   "cell_type": "code",
   "execution_count": 78,
   "metadata": {},
   "outputs": [],
   "source": [
    "df = pd.read_csv('data/census.csv')"
   ]
  },
  {
   "cell_type": "code",
   "execution_count": 79,
   "metadata": {},
   "outputs": [
    {
     "data": {
      "text/plain": [
       "Index(['age', ' workclass', ' fnlgt', ' education', ' education-num',\n",
       "       ' marital-status', ' occupation', ' relationship', ' race', ' sex',\n",
       "       ' capital-gain', ' capital-loss', ' hours-per-week', ' native-country',\n",
       "       ' salary'],\n",
       "      dtype='object')"
      ]
     },
     "execution_count": 79,
     "metadata": {},
     "output_type": "execute_result"
    }
   ],
   "source": [
    "df.columns"
   ]
  },
  {
   "cell_type": "code",
   "execution_count": 80,
   "metadata": {},
   "outputs": [],
   "source": [
    "df.columns = df.columns.map(lambda x: x.replace('-','_').strip() if '-' in x else x.strip())\n"
   ]
  },
  {
   "cell_type": "code",
   "execution_count": 81,
   "metadata": {},
   "outputs": [],
   "source": [
    "df['salary'] = df.salary.map(lambda x: 1 if '>' in x else 0)\n",
    "df = df[df['native_country'].map(lambda x: True if '?' not in x else False)]\n",
    "df['sex'] = df.sex.map(lambda x: 1 if x=='Male' in x else 0)"
   ]
  },
  {
   "cell_type": "code",
   "execution_count": 82,
   "metadata": {},
   "outputs": [],
   "source": [
    "df.to_csv('data/census.csv', index=False)"
   ]
  },
  {
   "cell_type": "code",
   "execution_count": 83,
   "metadata": {},
   "outputs": [],
   "source": [
    "model = load_artifact(\"model/model.pkl\")\n",
    "encoder = load_artifact(\"model/encoder.pkl\")\n",
    "lb = load_artifact(\"model/lb.pkl\")"
   ]
  },
  {
   "cell_type": "code",
   "execution_count": 84,
   "metadata": {},
   "outputs": [],
   "source": [
    "cat_features = get_cat_features()"
   ]
  },
  {
   "cell_type": "code",
   "execution_count": 90,
   "metadata": {},
   "outputs": [],
   "source": [
    "X, _, _, _ = process_data(\n",
    "        df, categorical_features=cat_features, encoder=encoder, lb=lb, training=False,\n",
    "        label='salary')"
   ]
  },
  {
   "cell_type": "code",
   "execution_count": 91,
   "metadata": {},
   "outputs": [
    {
     "data": {
      "text/plain": [
       "(31978, 106)"
      ]
     },
     "execution_count": 91,
     "metadata": {},
     "output_type": "execute_result"
    }
   ],
   "source": [
    "X.shape"
   ]
  },
  {
   "cell_type": "code",
   "execution_count": 92,
   "metadata": {},
   "outputs": [
    {
     "data": {
      "text/plain": [
       "array([0, 0, 0, ..., 0, 0, 1])"
      ]
     },
     "execution_count": 92,
     "metadata": {},
     "output_type": "execute_result"
    }
   ],
   "source": [
    "inference(model, X)"
   ]
  },
  {
   "cell_type": "code",
   "execution_count": 93,
   "metadata": {},
   "outputs": [],
   "source": [
    "class ModelInput(BaseModel):\n",
    "    age: int\n",
    "    workclass: Literal['State-gov',\n",
    "                       'Self-emp-not-inc',\n",
    "                       'Private',\n",
    "                       'Federal-gov',\n",
    "                       'Local-gov',\n",
    "                       'Self-emp-inc',\n",
    "                       'Without-pay']\n",
    "    fnlgt: int\n",
    "    education: Literal[\n",
    "        'Bachelors', 'HS-grad', '11th', 'Masters', '9th',\n",
    "        'Some-college',\n",
    "        'Assoc-acdm', '7th-8th', 'Doctorate', 'Assoc-voc', 'Prof-school',\n",
    "        '5th-6th', '10th', 'Preschool', '12th', '1st-4th']\n",
    "    education_num: int\n",
    "    marital_status: Literal[\"Never-married\",\n",
    "                            \"Married-civ-spouse\",\n",
    "                            \"Divorced\",\n",
    "                            \"Married-spouse-absent\",\n",
    "                            \"Separated\",\n",
    "                            \"Married-AF-spouse\",\n",
    "                            \"Widowed\"]\n",
    "    occupation: Literal[\"Tech-support\",\n",
    "                        \"Craft-repair\",\n",
    "                        \"Other-service\",\n",
    "                        \"Sales\",\n",
    "                        \"Exec-managerial\",\n",
    "                        \"Prof-specialty\",\n",
    "                        \"Handlers-cleaners\",\n",
    "                        \"Machine-op-inspct\",\n",
    "                        \"Adm-clerical\",\n",
    "                        \"Farming-fishing\",\n",
    "                        \"Transport-moving\",\n",
    "                        \"Priv-house-serv\",\n",
    "                        \"Protective-serv\",\n",
    "                        \"Armed-Forces\"]\n",
    "    relationship: Literal[\"Wife\", \"Own-child\", \"Husband\",\n",
    "                          \"Not-in-family\", \"Other-relative\", \"Unmarried\"]\n",
    "    race: Literal[\"White\", \"Asian-Pac-Islander\",\n",
    "                  \"Amer-Indian-Eskimo\", \"Other\", \"Black\"]\n",
    "    sex: Literal[\"Female\", \"Male\"]\n",
    "    capital_gain: int\n",
    "    capital_loss: int\n",
    "    hours_per_week: int\n",
    "    native_country: Literal[\n",
    "        'United-States', 'Cuba', 'Jamaica', 'India', 'Mexico',\n",
    "        'Puerto-Rico', 'Honduras', 'England', 'Canada', 'Germany', 'Iran',\n",
    "        'Philippines', 'Poland', 'Columbia', 'Cambodia', 'Thailand',\n",
    "        'Ecuador', 'Laos', 'Taiwan', 'Haiti', 'Portugal',\n",
    "        'Dominican-Republic', 'El-Salvador', 'France', 'Guatemala',\n",
    "        'Italy', 'China', 'South', 'Japan', 'Yugoslavia', 'Peru',\n",
    "        'Outlying-US(Guam-USVI-etc)', 'Scotland', 'Trinadad&Tobago',\n",
    "        'Greece', 'Nicaragua', 'Vietnam', 'Hong', 'Ireland', 'Hungary',\n",
    "        'Holand-Netherlands']\n",
    "    \n",
    "    class Config:\n",
    "        schema_extra = {\n",
    "            \"example\": {\n",
    "                \"age\": 27,\n",
    "                \"workclass\": 'State-gov',\n",
    "                \"fnlgt\": 77516,\n",
    "                \"education\": 'Bachelors',\n",
    "                \"education_num\": 13,\n",
    "                \"marital_status\": \"Never-married\",\n",
    "                \"occupation\": \"Tech-support\",\n",
    "                \"relationship\": \"Unmarried\",\n",
    "                \"race\": \"White\",\n",
    "                \"sex\": \"Female\",\n",
    "                \"capital_gain\": 2000,\n",
    "                \"capital_loss\": 0,\n",
    "                \"hours_per_week\": 35,\n",
    "                \"native_country\": 'United-States'\n",
    "            }\n",
    "        }\n",
    "        "
   ]
  },
  {
   "cell_type": "code",
   "execution_count": 94,
   "metadata": {},
   "outputs": [],
   "source": [
    "def predict(input: ModelInput):\n",
    "    input_data = np.array([\n",
    "        [\n",
    "            input.age,\n",
    "            input.workclass,\n",
    "            input.fnlgt,\n",
    "            input.education,\n",
    "            input.education_num,\n",
    "            input.marital_status,\n",
    "            input.occupation,\n",
    "            input.relationship,\n",
    "            input.race,\n",
    "            input.sex,\n",
    "            input.capital_gain,\n",
    "            input.capital_loss,\n",
    "            input.hours_per_week,\n",
    "            input.native_country\n",
    "        ]\n",
    "    ])\n",
    "    \n",
    "    original_cols = [\n",
    "        \"age\",\n",
    "        \"workclass\",\n",
    "        \"fnlwgt\",\n",
    "        \"education\",\n",
    "        \"education_num\",\n",
    "        \"marital_status\",\n",
    "        \"occupation\",\n",
    "        \"relationship\",\n",
    "        \"race\",\n",
    "        \"sex\",\n",
    "        \"capital_gain\",\n",
    "        \"capital_loss\",\n",
    "        \"hours_per_week\",\n",
    "        \"native_country\"]\n",
    "    \n",
    "    input_df = pd.DataFrame(data=input_data, columns=original_cols)\n",
    "    cat_features = get_cat_features()\n",
    "    \n",
    "    X, _, _, _ = process_data(\n",
    "        input_df, categorical_features=cat_features, encoder=encoder, lb=lb, training=False)\n",
    "    y = inference(model, X)\n",
    "    pred = lb.inverse_transform(y)[0]\n",
    "\n",
    "    return {\"Income prediction\": pred}"
   ]
  },
  {
   "cell_type": "code",
   "execution_count": 95,
   "metadata": {},
   "outputs": [],
   "source": [
    "original_cols = [\n",
    "        \"age\",\n",
    "        \"workclass\",\n",
    "        \"fnlwgt\",\n",
    "        \"education\",\n",
    "        \"education_num\",\n",
    "        \"marital_status\",\n",
    "        \"occupation\",\n",
    "        \"relationship\",\n",
    "        \"race\",\n",
    "        \"sex\",\n",
    "        \"capital_gain\",\n",
    "        \"capital_loss\",\n",
    "        \"hours_per_week\",\n",
    "        \"native_country\"]"
   ]
  },
  {
   "cell_type": "code",
   "execution_count": 97,
   "metadata": {},
   "outputs": [],
   "source": [
    "input_data = np.array([\n",
    "        [\n",
    "            new_ipt.age,\n",
    "            new_ipt.workclass,\n",
    "            new_ipt.fnlgt,\n",
    "            new_ipt.education,\n",
    "            new_ipt.education_num,\n",
    "            new_ipt.marital_status,\n",
    "            new_ipt.occupation,\n",
    "            new_ipt.relationship,\n",
    "            new_ipt.race,\n",
    "            new_ipt.sex,\n",
    "            new_ipt.capital_gain,\n",
    "            new_ipt.capital_loss,\n",
    "            new_ipt.hours_per_week,\n",
    "            new_ipt.native_country\n",
    "        ]\n",
    "    ])\n",
    "input_df = pd.DataFrame(data=input_data, columns=original_cols)"
   ]
  },
  {
   "cell_type": "code",
   "execution_count": 98,
   "metadata": {},
   "outputs": [],
   "source": [
    "X, _, _, _ = process_data(\n",
    "        input_df, categorical_features=cat_features, encoder=encoder, lb=lb, training=False)"
   ]
  },
  {
   "cell_type": "code",
   "execution_count": 99,
   "metadata": {},
   "outputs": [
    {
     "data": {
      "text/plain": [
       "(1, 106)"
      ]
     },
     "execution_count": 99,
     "metadata": {},
     "output_type": "execute_result"
    }
   ],
   "source": [
    "X.shape"
   ]
  },
  {
   "cell_type": "code",
   "execution_count": 100,
   "metadata": {},
   "outputs": [],
   "source": [
    "ipt = {\n",
    "  \"age\": 27,\n",
    "  \"workclass\": \"State-gov\",\n",
    "  \"fnlgt\": 77516,\n",
    "  \"education\": \"Bachelors\",\n",
    "  \"education_num\": 13,\n",
    "  \"marital_status\": \"Never-married\",\n",
    "  \"occupation\": \"Tech-support\",\n",
    "  \"relationship\": \"Unmarried\",\n",
    "  \"race\": \"White\",\n",
    "  \"sex\": \"Female\",\n",
    "  \"capital_gain\": 2000,\n",
    "  \"capital_loss\": 0,\n",
    "  \"hours_per_week\": 33,\n",
    "  \"native_country\": \"United-States\"\n",
    "}"
   ]
  },
  {
   "cell_type": "code",
   "execution_count": 101,
   "metadata": {},
   "outputs": [],
   "source": [
    "new_ipt = ModelInput(**ipt)"
   ]
  },
  {
   "cell_type": "code",
   "execution_count": 102,
   "metadata": {},
   "outputs": [
    {
     "data": {
      "text/plain": [
       "{'Income prediction': 0}"
      ]
     },
     "execution_count": 102,
     "metadata": {},
     "output_type": "execute_result"
    }
   ],
   "source": [
    "predict(new_ipt)"
   ]
  },
  {
   "cell_type": "markdown",
   "metadata": {},
   "source": [
    "## api test"
   ]
  },
  {
   "cell_type": "code",
   "execution_count": 103,
   "metadata": {},
   "outputs": [],
   "source": [
    "import requests"
   ]
  },
  {
   "cell_type": "code",
   "execution_count": 105,
   "metadata": {},
   "outputs": [],
   "source": [
    "features = {\n",
    "    \"age\": 36,\n",
    "    \"workclass\": \"Private\",\n",
    "    \"fnlgt\": 302146,\n",
    "    \"education\": \"HS-grad\",\n",
    "    \"education_num\": 9,\n",
    "    \"marital_status\": \"Divorced\",\n",
    "    \"occupation\": \"Craft-repair\",\n",
    "    \"relationship\": \"Husband\",\n",
    "    \"race\": \"White\",\n",
    "    \"sex\": \"Male\",\n",
    "    \"capital_gain\": 2000,\n",
    "    \"capital_loss\": 0,\n",
    "    \"hours_per_week\": 45,\n",
    "    \"native_country\": \"United-States\"\n",
    "}\n",
    "\n",
    "app_url = \"https://render-deployment-v5l3.onrender.com/predict_income\"\n",
    "\n",
    "r = requests.post(app_url, json=features)"
   ]
  },
  {
   "cell_type": "code",
   "execution_count": 107,
   "metadata": {},
   "outputs": [
    {
     "data": {
      "text/plain": [
       "{'Income prediction': 'under 50k'}"
      ]
     },
     "execution_count": 107,
     "metadata": {},
     "output_type": "execute_result"
    }
   ],
   "source": [
    "r.json()"
   ]
  },
  {
   "cell_type": "code",
   "execution_count": null,
   "metadata": {},
   "outputs": [],
   "source": []
  }
 ],
 "metadata": {
  "kernelspec": {
   "display_name": "Python 3",
   "language": "python",
   "name": "python3"
  },
  "language_info": {
   "codemirror_mode": {
    "name": "ipython",
    "version": 3
   },
   "file_extension": ".py",
   "mimetype": "text/x-python",
   "name": "python",
   "nbconvert_exporter": "python",
   "pygments_lexer": "ipython3",
   "version": "3.9.13"
  }
 },
 "nbformat": 4,
 "nbformat_minor": 4
}
